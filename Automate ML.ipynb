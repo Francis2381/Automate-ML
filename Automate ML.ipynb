{
 "cells": [
  {
   "cell_type": "code",
   "execution_count": 1,
   "metadata": {},
   "outputs": [],
   "source": [
    "k='ifemide'"
   ]
  },
  {
   "cell_type": "code",
   "execution_count": 2,
   "metadata": {},
   "outputs": [],
   "source": [
    "k[::-1]"
   ]
  },
  {
   "cell_type": "code",
   "execution_count": 3,
   "metadata": {},
   "outputs": [],
   "source": [
    "l='I F E M I D E'.split()\n",
    "l"
   ]
  },
  {
   "cell_type": "code",
   "execution_count": 4,
   "metadata": {},
   "outputs": [
    {
     "data": {
      "text/plain": [
       "['E', 'D', 'I', 'M', 'E', 'F', 'I']"
      ]
     },
     "execution_count": 4,
     "metadata": {},
     "output_type": "execute_result"
    }
   ],
   "source": [
    "l.reverse()\n",
    "l"
   ]
  },
  {
   "cell_type": "code",
   "execution_count": 52,
   "metadata": {},
   "outputs": [],
   "source": [
    "class analyse(object):\n",
    "    def __init__(self, X_train, X_test, y_train, y_test):\n",
    "        self.X_train=X_train\n",
    "        self.X_test=X_test\n",
    "        self.y_train=y_train\n",
    "        self.y_test=y_test\n",
    "    def lr(self):\n",
    "        from sklearn.linear_model import LinearRegression\n",
    "        from sklearn.metrics import mean_squared_error as mse\n",
    "        lr = LinearRegression(n_jobs=-1)\n",
    "        lr=lr.fit(X_train, y_train)\n",
    "        y_pred=lr.predict(X_test)\n",
    "        error=mse(y_test, y_pred)\n",
    "    def error(self):\n",
    "        print(error)\n",
    "    def lasso(self):\n",
    "        from sklearn.linear_model import Lasso\n",
    "        from sklearn.metrics import mean_squared_error as mse\n",
    "        las = Lasso()\n",
    "        las=las.fit(X_train, y_train)\n",
    "        y_pred=las.predict(X_test)\n",
    "        error=mse(y_test, y_pred)\n",
    "        print(error)\n",
    "    def ridge(self):\n",
    "        from sklearn.linear_model import Ridge\n",
    "        from sklearn.metrics import mean_squared_error as mse\n",
    "        las = Ridge()\n",
    "        las=las.fit(X_train, y_train)\n",
    "        y_pred=las.predict(X_test)\n",
    "        error=mse(y_test, y_pred)\n",
    "        print(error)"
   ]
  },
  {
   "cell_type": "code",
   "execution_count": 53,
   "metadata": {},
   "outputs": [],
   "source": [
    "import pandas as pd\n",
    "import numpy as np\n",
    "from sklearn.model_selection import train_test_split\n",
    "df = pd.read_csv('C:/Users/USER/Jupyter/Classification Unilorin/audit_risk.csv')"
   ]
  },
  {
   "cell_type": "code",
   "execution_count": 54,
   "metadata": {},
   "outputs": [
    {
     "data": {
      "text/plain": [
       "(772, 27)"
      ]
     },
     "execution_count": 54,
     "metadata": {},
     "output_type": "execute_result"
    }
   ],
   "source": [
    "df['LOCATION_ID'].replace(to_replace='LOHARU NUH SAFIDON'.split(), value=np.NaN, inplace=True)\n",
    "\n",
    "df.dropna(inplace=True)\n",
    "\n",
    "df.shape"
   ]
  },
  {
   "cell_type": "code",
   "execution_count": 55,
   "metadata": {},
   "outputs": [],
   "source": [
    "y = df['Risk']\n",
    "X = df.drop('Risk',axis=1)"
   ]
  },
  {
   "cell_type": "code",
   "execution_count": 56,
   "metadata": {},
   "outputs": [],
   "source": [
    "X_train, X_test, y_train, y_test = train_test_split(X, y, random_state=42)"
   ]
  },
  {
   "cell_type": "code",
   "execution_count": 57,
   "metadata": {},
   "outputs": [],
   "source": [
    "jj = analyse(X_train, X_test, y_train, y_test)"
   ]
  },
  {
   "cell_type": "code",
   "execution_count": 63,
   "metadata": {},
   "outputs": [
    {
     "data": {
      "text/plain": [
       "<__main__.analyse at 0x20dc7bea188>"
      ]
     },
     "execution_count": 63,
     "metadata": {},
     "output_type": "execute_result"
    }
   ],
   "source": [
    "jj"
   ]
  },
  {
   "cell_type": "code",
   "execution_count": 62,
   "metadata": {},
   "outputs": [
    {
     "name": "stdout",
     "output_type": "stream",
     "text": [
      "0.3753477072439805\n"
     ]
    }
   ],
   "source": [
    "jj.lasso()"
   ]
  },
  {
   "cell_type": "code",
   "execution_count": 117,
   "metadata": {},
   "outputs": [
    {
     "name": "stdout",
     "output_type": "stream",
     "text": [
      "0.07808733486457707\n"
     ]
    }
   ],
   "source": [
    "jj.ridge()"
   ]
  },
  {
   "cell_type": "code",
   "execution_count": null,
   "metadata": {},
   "outputs": [],
   "source": []
  },
  {
   "cell_type": "code",
   "execution_count": null,
   "metadata": {},
   "outputs": [],
   "source": []
  }
 ],
 "metadata": {
  "kernelspec": {
   "display_name": "Python 3",
   "language": "python",
   "name": "python3"
  },
  "language_info": {
   "codemirror_mode": {
    "name": "ipython",
    "version": 3
   },
   "file_extension": ".py",
   "mimetype": "text/x-python",
   "name": "python",
   "nbconvert_exporter": "python",
   "pygments_lexer": "ipython3",
   "version": "3.7.4"
  }
 },
 "nbformat": 4,
 "nbformat_minor": 2
}
