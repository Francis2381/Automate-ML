{
 "cells": [
  {
   "cell_type": "markdown",
   "metadata": {},
   "source": [
    "# Automate Machine Learning\n",
    "\n",
    "**Goal:** To create a library that will eventually translates into an application that helps data scientist select the best algorithm from a wide variety of algorithms that can solve their problem of algorithm selection without writing so much code on their end.\n",
    "\n",
    "What I am doing with this code is to create a pipeline whereby all that is needed will be an analytical base table with no missing value and this code gives you the error result for what ever algorithm that you choose **using one line of code.**\n",
    "\n",
    "\n",
    "**Footnote:** I know applications like this exist but I just want to do this for personal fulfilment"
   ]
  },
  {
   "cell_type": "code",
   "execution_count": 1,
   "metadata": {},
   "outputs": [],
   "source": [
    "class analyse_regression(object):\n",
    "    '''Takes in 4 arguments(X_train, X_test, y_train, y_test) and returns the mean squared\n",
    "    error.\n",
    "    \n",
    "    Can be used to calculate Linear Regression, Lasso Regression and Ridge Regression\n",
    "    \n",
    "    Code is still work in progress more functionality coming soon...\n",
    "    \n",
    "    Anticipate\n",
    "    '''\n",
    "    \n",
    "    def __init__(self, X_train, X_test, y_train, y_test, model):\n",
    "        self.X_train = X_train\n",
    "        self.X_test = X_test\n",
    "        self.y_train = y_train\n",
    "        self.y_test = y_test\n",
    "        self.model = model\n",
    "        \n",
    "    def lr_mse_error(self):\n",
    "        '''creates a virtual linear regression and calculates the mean squared error'''\n",
    "        from sklearn.linear_model import LinearRegression, Lasso, Ridge\n",
    "        from sklearn.metrics import mean_squared_error as mse\n",
    "        lr = LinearRegression(n_jobs=-1)\n",
    "        lr=lr.fit(X_train, y_train)\n",
    "        y_pred=lr.predict(X_test)\n",
    "        error=mse(y_test, y_pred)\n",
    "        print(error)\n",
    "        \n",
    "    def lasso_mse_error(self):\n",
    "        '''creates a virtual lasso regression and calculates the mean squared error'''\n",
    "        from sklearn.linear_model import Lasso\n",
    "        from sklearn.metrics import mean_squared_error as mse\n",
    "        las = Lasso()\n",
    "        las=las.fit(X_train, y_train)\n",
    "        y_pred=las.predict(X_test)\n",
    "        error=mse(y_test, y_pred)\n",
    "        print(error)\n",
    "        \n",
    "    def ridge_mse_error(self):\n",
    "        '''creates a virtual ridge regression and calculates the mean squared error'''\n",
    "        from sklearn.linear_model import Ridge\n",
    "        from sklearn.metrics import mean_squared_error as mse\n",
    "        las = Ridge()\n",
    "        las=las.fit(X_train, y_train)\n",
    "        y_pred=las.predict(X_test)\n",
    "        error=mse(y_test, y_pred)\n",
    "        print(error)"
   ]
  },
  {
   "cell_type": "code",
   "execution_count": 3,
   "metadata": {},
   "outputs": [],
   "source": [
    "import pandas as pd\n",
    "import numpy as np\n",
    "from sklearn.model_selection import train_test_split\n",
    "df = pd.read_csv('C:/Users/USER/Jupyter/Classification Unilorin/audit_risk.csv')"
   ]
  },
  {
   "cell_type": "code",
   "execution_count": 4,
   "metadata": {},
   "outputs": [
    {
     "data": {
      "text/plain": [
       "(772, 27)"
      ]
     },
     "execution_count": 4,
     "metadata": {},
     "output_type": "execute_result"
    }
   ],
   "source": [
    "df['LOCATION_ID'].replace(to_replace='LOHARU NUH SAFIDON'.split(), value=np.NaN, inplace=True)\n",
    "\n",
    "df.dropna(inplace=True)\n",
    "\n",
    "df.shape"
   ]
  },
  {
   "cell_type": "code",
   "execution_count": 5,
   "metadata": {},
   "outputs": [],
   "source": [
    "y = df['Risk']\n",
    "X = df.drop('Risk',axis=1)"
   ]
  },
  {
   "cell_type": "code",
   "execution_count": 6,
   "metadata": {},
   "outputs": [],
   "source": [
    "X_train, X_test, y_train, y_test = train_test_split(X, y, random_state=42)"
   ]
  },
  {
   "cell_type": "code",
   "execution_count": 7,
   "metadata": {},
   "outputs": [],
   "source": [
    "jj = analyse_regression(X_train, X_test, y_train, y_test)"
   ]
  },
  {
   "cell_type": "code",
   "execution_count": 8,
   "metadata": {},
   "outputs": [
    {
     "name": "stdout",
     "output_type": "stream",
     "text": [
      "0.07113301573312243\n"
     ]
    }
   ],
   "source": [
    "jj.lr_mse_error()"
   ]
  },
  {
   "cell_type": "code",
   "execution_count": 9,
   "metadata": {},
   "outputs": [
    {
     "name": "stdout",
     "output_type": "stream",
     "text": [
      "0.3753477072439805\n"
     ]
    }
   ],
   "source": [
    "jj.lasso_mse_error()"
   ]
  },
  {
   "cell_type": "code",
   "execution_count": 10,
   "metadata": {},
   "outputs": [
    {
     "name": "stdout",
     "output_type": "stream",
     "text": [
      "0.07808733486457707\n"
     ]
    }
   ],
   "source": [
    "jj.ridge_mse_error()"
   ]
  },
  {
   "cell_type": "code",
   "execution_count": 11,
   "metadata": {},
   "outputs": [
    {
     "data": {
      "text/plain": [
       "<__main__.analyse_regression at 0x222a956da88>"
      ]
     },
     "execution_count": 11,
     "metadata": {},
     "output_type": "execute_result"
    }
   ],
   "source": [
    "jj"
   ]
  },
  {
   "cell_type": "code",
   "execution_count": null,
   "metadata": {},
   "outputs": [],
   "source": []
  }
 ],
 "metadata": {
  "kernelspec": {
   "display_name": "Python 3",
   "language": "python",
   "name": "python3"
  },
  "language_info": {
   "codemirror_mode": {
    "name": "ipython",
    "version": 3
   },
   "file_extension": ".py",
   "mimetype": "text/x-python",
   "name": "python",
   "nbconvert_exporter": "python",
   "pygments_lexer": "ipython3",
   "version": "3.8.3"
  }
 },
 "nbformat": 4,
 "nbformat_minor": 2
}
